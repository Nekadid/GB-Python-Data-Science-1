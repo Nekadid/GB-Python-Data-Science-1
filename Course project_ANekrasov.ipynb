{
 "cells": [
  {
   "cell_type": "markdown",
   "metadata": {},
   "source": [
    "### Курсовой проект для курса \"Python для Data Science\"\n",
    "\n",
    "Выполнил: Алексей Некрасов\n",
    "\n",
    "Материалы к проекту (файлы):\n",
    "train.csv\n",
    "test.csv\n",
    "\n",
    "Задание:\n",
    "Используя данные из обучающего датасета (train.csv), построить модель для предсказания цен на недвижимость (квартиры).\n",
    "С помощью полученной модели, предсказать цены для квартир из тестового датасета (test.csv).\n",
    "\n",
    "Целевая переменная:\n",
    "Price\n",
    "\n",
    "Метрика качества:\n",
    "R2 - коэффициент детерминации (sklearn.metrics.r2_score)\n",
    "\n",
    "Требования к решению: R2 > 0.6"
   ]
  },
  {
   "cell_type": "markdown",
   "metadata": {},
   "source": [
    "### 1. Работает с тренировочным датасетом"
   ]
  },
  {
   "cell_type": "code",
   "execution_count": 1,
   "metadata": {
    "scrolled": true
   },
   "outputs": [],
   "source": [
    "# Загрузка необходимых библиотек\n",
    "\n",
    "import numpy as np\n",
    "import pandas as pd\n",
    "from sklearn.ensemble import RandomForestRegressor\n",
    "import sklearn.metrics\n",
    "from sklearn.model_selection import train_test_split\n",
    "from sklearn.preprocessing import StandardScaler\n",
    "from sklearn.model_selection import GridSearchCV\n",
    "from sklearn.decomposition import PCA\n",
    "\n",
    "import warnings\n",
    "warnings.filterwarnings('ignore')\n",
    "\n",
    "\n",
    "# Загрузка тренировочных данных из файла\n",
    "\n",
    "TRAIN_DATASET_PATH='C:/GoogleDisk/Учение/GB_Python-Data Science-1/project_task/project_task/train.csv'\n",
    "TEST_DATASET_PATH='C:/GoogleDisk/Учение/GB_Python-Data Science-1/project_task/project_task/test.csv'\n",
    "\n",
    "data_train = pd.read_csv(TRAIN_DATASET_PATH, index_col=\"Id\")\n",
    "# data_train.info()"
   ]
  },
  {
   "cell_type": "code",
   "execution_count": 2,
   "metadata": {},
   "outputs": [
    {
     "name": "stdout",
     "output_type": "stream",
     "text": [
      "37.19964482767308\n",
      "1142.9044598231449\n"
     ]
    }
   ],
   "source": [
    "# Обрабатка пропущенных значений\n",
    "\n",
    "LifeSquare_mean = data_train[\"LifeSquare\"].mean()\n",
    "print(LifeSquare_mean)\n",
    "data_train[\"LifeSquare\"].fillna(LifeSquare_mean, inplace=True)\n",
    "\n",
    "Healthcare_1_mean = data_train[\"Healthcare_1\"].mean()\n",
    "print(Healthcare_1_mean)\n",
    "data_train[\"Healthcare_1\"].fillna(Healthcare_1_mean, inplace=True)"
   ]
  },
  {
   "cell_type": "code",
   "execution_count": 3,
   "metadata": {},
   "outputs": [],
   "source": [
    "# Обрабатка категориальных признаков\n",
    "\n",
    "data_train = pd.concat([data_train,pd.get_dummies(data_train['Ecology_2'])],axis=1)\n",
    "data_train.drop(\"Ecology_2\", axis=1, inplace=True)\n",
    "\n",
    "data_train = pd.concat([data_train,pd.get_dummies(data_train['Ecology_3'])],axis=1)\n",
    "data_train.drop(\"Ecology_3\", axis=1, inplace=True)\n",
    "\n",
    "data_train = pd.concat([data_train,pd.get_dummies(data_train['Shops_2'])],axis=1)\n",
    "data_train.drop(\"Shops_2\", axis=1, inplace=True)"
   ]
  },
  {
   "cell_type": "code",
   "execution_count": 4,
   "metadata": {},
   "outputs": [],
   "source": [
    "# Создаение тренировачных датафреймов\n",
    "\n",
    "X = pd.DataFrame(data_train)\n",
    "y = pd.DataFrame(data_train[\"Price\"])\n",
    "\n",
    "X_train, X_valid, y_train, y_valid = train_test_split(X, y, test_size=0.25,random_state=42)\n",
    "\n",
    "# Удаление целевого показателя из таблиц признаков\n",
    "X_train.drop(\"Price\", axis=1, inplace=True)\n",
    "X_valid.drop(\"Price\", axis=1, inplace=True)"
   ]
  },
  {
   "cell_type": "code",
   "execution_count": 5,
   "metadata": {},
   "outputs": [],
   "source": [
    "# Стандартизация признаков\n",
    "\n",
    "scaler = StandardScaler()\n",
    "\n",
    "X_train_scaled = scaler.fit_transform(X_train)\n",
    "X_train_scaled = pd.DataFrame(X_train_scaled, columns=X_train.columns)\n",
    "\n",
    "X_valid_scaled = scaler.fit_transform(X_valid)\n",
    "X_valid_scaled = pd.DataFrame(X_valid_scaled, columns=X_valid.columns)\n",
    "\n"
   ]
  },
  {
   "cell_type": "code",
   "execution_count": 6,
   "metadata": {},
   "outputs": [],
   "source": [
    "# Поиск наилучших параметров (для ускорения выполнения скрипта)\n",
    "\n",
    "# %%time\n",
    "# # Опредение нилучших параметров для модели\n",
    "\n",
    "# parameters = {\n",
    "#     'n_estimators': [150],\n",
    "#     'max_features': (5,7,9),\n",
    "#     'max_depth': [17],\n",
    "# }\n",
    "# grid = GridSearchCV(\n",
    "#     estimator=RandomForestRegressor(random_state=42),\n",
    "#     param_grid=parameters,\n",
    "#     scoring='r2',\n",
    "# )\n",
    "\n",
    "# grid.fit(X_train, y_train)\n",
    "\n",
    "# print('Лучшие параметры: ',grid.best_params_)\n",
    "\n",
    "# y_pred = grid.predict(X_train)\n",
    "\n",
    "# print('Коэф. детерминации на тренировочных данных: ',sklearn.metrics.r2_score(y_train,y_pred))\n",
    "\n",
    "# y_pred2 = grid.predict(X_valid)\n",
    "\n",
    "# print('Коэф. детерминации на тренировочных данных: ',sklearn.metrics.r2_score(y_valid,y_pred2))"
   ]
  },
  {
   "cell_type": "code",
   "execution_count": 7,
   "metadata": {},
   "outputs": [
    {
     "name": "stdout",
     "output_type": "stream",
     "text": [
      "Коэф. детерминации на тренировочных данных:  0.9500033330382888\n",
      "Коэф. детерминации на тренировочных данных:  0.7327435630738615\n",
      "Wall time: 5.6 s\n"
     ]
    }
   ],
   "source": [
    "%%time\n",
    "# Создание модели, тренировка, предсказание.\n",
    "\n",
    "rfr = RandomForestRegressor(n_estimators=150,max_features=5, max_depth=17 ,random_state=42)\n",
    "\n",
    "rfr.fit(X_train, y_train)\n",
    "\n",
    "y_pred = rfr.predict(X_train)\n",
    "\n",
    "print('Коэф. детерминации на тренировочных данных: ',sklearn.metrics.r2_score(y_train,y_pred))\n",
    "\n",
    "y_pred2 = rfr.predict(X_valid)\n",
    "\n",
    "print('Коэф. детерминации на тренировочных данных: ',sklearn.metrics.r2_score(y_valid,y_pred2))"
   ]
  },
  {
   "cell_type": "markdown",
   "metadata": {},
   "source": [
    "### 2. Работаем с тестовым датасетом"
   ]
  },
  {
   "cell_type": "code",
   "execution_count": 8,
   "metadata": {},
   "outputs": [],
   "source": [
    "# Загрузка тестовых данных из файла\n",
    "\n",
    "data_test = pd.read_csv(TEST_DATASET_PATH, index_col=\"Id\")\n",
    "# data_test.head()"
   ]
  },
  {
   "cell_type": "code",
   "execution_count": 9,
   "metadata": {},
   "outputs": [
    {
     "name": "stdout",
     "output_type": "stream",
     "text": [
      "36.15881045508672\n",
      "1146.6572626763248\n"
     ]
    }
   ],
   "source": [
    "# Обработка пропущенных значений\n",
    "\n",
    "LifeSquare_mean = data_test[\"LifeSquare\"].mean()\n",
    "print(LifeSquare_mean)\n",
    "data_test[\"LifeSquare\"].fillna(LifeSquare_mean, inplace=True)\n",
    "\n",
    "Healthcare_1_mean = data_test[\"Healthcare_1\"].mean()\n",
    "print(Healthcare_1_mean)\n",
    "data_test[\"Healthcare_1\"].fillna(Healthcare_1_mean, inplace=True)"
   ]
  },
  {
   "cell_type": "code",
   "execution_count": 10,
   "metadata": {},
   "outputs": [],
   "source": [
    "# Обработка категориальных признаков\n",
    "\n",
    "data_test = pd.concat([data_test,pd.get_dummies(data_test['Ecology_2'])],axis=1)\n",
    "data_test.drop(\"Ecology_2\", axis=1, inplace=True)\n",
    "\n",
    "data_test = pd.concat([data_test,pd.get_dummies(data_test['Ecology_3'])],axis=1)\n",
    "data_test.drop(\"Ecology_3\", axis=1, inplace=True)\n",
    "\n",
    "data_test = pd.concat([data_test,pd.get_dummies(data_test['Shops_2'])],axis=1)\n",
    "data_test.drop(\"Shops_2\", axis=1, inplace=True)"
   ]
  },
  {
   "cell_type": "code",
   "execution_count": 11,
   "metadata": {},
   "outputs": [],
   "source": [
    "# Создание датафрейма для предсказания и Стандартизация признаков.\n",
    "\n",
    "X_test = pd.DataFrame(data_test)\n",
    "\n",
    "X_test_scaled = scaler.fit_transform(X_test)\n",
    "X_test_scaled = pd.DataFrame(X_test_scaled, columns=X_test.columns)"
   ]
  },
  {
   "cell_type": "code",
   "execution_count": 12,
   "metadata": {},
   "outputs": [],
   "source": [
    "# Предсказание.\n",
    "\n",
    "y_test = rfr.predict(X_test)"
   ]
  },
  {
   "cell_type": "code",
   "execution_count": 13,
   "metadata": {},
   "outputs": [],
   "source": [
    "# Запись индексов наблюдений в отдельную колонку.\n",
    "\n",
    "data_test.reset_index(drop=False, inplace=True)"
   ]
  },
  {
   "cell_type": "code",
   "execution_count": 14,
   "metadata": {},
   "outputs": [],
   "source": [
    "# Создание датафрейма для вывода результатов предсказания.\n",
    "\n",
    "test = pd.DataFrame({'id':data_test['Id'],'Price':y_test})\n",
    "# test"
   ]
  },
  {
   "cell_type": "code",
   "execution_count": 15,
   "metadata": {},
   "outputs": [],
   "source": [
    "# Выгрузка резульатов предсказания в csv.\n",
    "\n",
    "test[['id','Price']].to_csv('sampleSubmissionNek4.csv',index=False)"
   ]
  },
  {
   "cell_type": "markdown",
   "metadata": {},
   "source": [
    "#### Результат\n",
    "Предсказание на тестовых данных загружено в соревнование на Kaggle.com.\n",
    "\n",
    "Полученный коэфициент детерминации: 0.73658.\n",
    "\n",
    "Соревнование: https://www.kaggle.com/c/realestatepriceprediction/leaderboard\n",
    "\n",
    "Мой профиль на Kaggle.com: https://www.kaggle.com/alekseinekrasov"
   ]
  }
 ],
 "metadata": {
  "kernelspec": {
   "display_name": "Python 3",
   "language": "python",
   "name": "python3"
  },
  "language_info": {
   "codemirror_mode": {
    "name": "ipython",
    "version": 3
   },
   "file_extension": ".py",
   "mimetype": "text/x-python",
   "name": "python",
   "nbconvert_exporter": "python",
   "pygments_lexer": "ipython3",
   "version": "3.7.4"
  }
 },
 "nbformat": 4,
 "nbformat_minor": 2
}
